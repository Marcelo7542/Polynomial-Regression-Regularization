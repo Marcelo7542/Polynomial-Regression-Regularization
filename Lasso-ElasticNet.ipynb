{
 "cells": [
  {
   "cell_type": "code",
   "execution_count": 43,
   "id": "4d3a644f-5869-49cf-a534-a2fe2210dfe9",
   "metadata": {},
   "outputs": [],
   "source": [
    "import numpy as np\n",
    "import matplotlib.pyplot as plt\n",
    "from sklearn.preprocessing import PolynomialFeatures, StandardScaler, add_dummy_feature\n",
    "from sklearn.linear_model import LinearRegression, Ridge, SGDRegressor, RidgeCV, ElasticNet, Lasso\n",
    "from sklearn.pipeline import make_pipeline\n",
    "from sklearn.model_selection import learning_curve\n",
    "from copy import deepcopy\n",
    "from sklearn.metrics import mean_squared_error\n",
    "m = 10000\n",
    "X = 3 * np.random.rand(m, 1) + 2\n",
    "Y = 3 * X**5 - 2 * X**4 + 0.5 * X**3 - 20 * X**2 + 8 * X + 5 + np.random.randn(m,1)"
   ]
  },
  {
   "cell_type": "code",
   "execution_count": 44,
   "id": "e207d656-fe8c-4231-b9c0-9cb25c440112",
   "metadata": {},
   "outputs": [
    {
     "data": {
      "image/png": "[encoded data removed]",
      "text/plain": [
       "<Figure size 640x480 with 1 Axes>"
      ]
     },
     "metadata": {},
     "output_type": "display_data"
    }
   ],
   "source": [
    "plt.plot(X, Y, 'bo', alpha=0.5)\n",
    "plt.show()"
   ]
  },
  {
   "cell_type": "code",
   "execution_count": 45,
   "id": "df1577c3-720e-435d-a716-bab9f835fa5c",
   "metadata": {},
   "outputs": [
    {
     "name": "stdout",
     "output_type": "stream",
     "text": [
      "[[1.00000000e+00 3.80888861e+00 1.45076324e+01 ... 2.10471399e+02\n",
      "  8.01662114e+02 3.05344170e+03]\n",
      " [1.00000000e+00 4.18059708e+00 1.74773919e+01 ... 3.05459229e+02\n",
      "  1.27700196e+03 5.33863067e+03]\n",
      " [1.00000000e+00 3.39327551e+00 1.15143187e+01 ... 1.32579536e+02\n",
      "  4.49878892e+02 1.52656303e+03]\n",
      " ...\n",
      " [1.00000000e+00 4.06469033e+00 1.65217075e+01 ... 2.72966818e+02\n",
      "  1.10952559e+03 4.50987792e+03]\n",
      " [1.00000000e+00 3.96587437e+00 1.57281595e+01 ... 2.47375001e+02\n",
      "  9.81058176e+02 3.89075347e+03]\n",
      " [1.00000000e+00 4.82321973e+00 2.32634486e+01 ... 5.41188040e+02\n",
      "  2.61026884e+03 1.25899002e+04]]\n"
     ]
    }
   ],
   "source": [
    "\n",
    "\n",
    "def polynomial_features(X, degree):\n",
    "    poly_features = [X**i for i in range(degree + 1)]\n",
    "    return np.hstack(poly_features) \n",
    "degree = 6\n",
    "X_poly = polynomial_features(X, degree)\n",
    "\n",
    "print(X_poly)\n"
   ]
  },
  {
   "cell_type": "code",
   "execution_count": 46,
   "id": "eea303c3-5f4a-46e2-bd78-0dae78c0ea9b",
   "metadata": {},
   "outputs": [
    {
     "name": "stdout",
     "output_type": "stream",
     "text": [
      "[[ 0.          0.36169485  0.25107669 ...  0.02653239 -0.07261066\n",
      "  -0.1580097 ]\n",
      " [ 0.          0.7875938   0.7342004  ...  0.57279032  0.47917797\n",
      "   0.38492025]\n",
      " [ 0.         -0.11450946 -0.23587885 ... -0.4214097  -0.48097109\n",
      "  -0.5207754 ]\n",
      " ...\n",
      " [ 0.          0.65478928  0.57872861 ...  0.38593231  0.28476641\n",
      "   0.18801982]\n",
      " [ 0.          0.54156718  0.44963336 ...  0.23875837  0.13563762\n",
      "   0.04092424]\n",
      " [ 0.          1.52390284  1.6754824  ...  1.92842432  2.02687381\n",
      "   2.10772368]]\n"
     ]
    }
   ],
   "source": [
    "def standardize(X):\n",
    "    mean = np.mean(X, axis=0)\n",
    "    std = np.std(X, axis=0)\n",
    "    std = np.where(std == 0, 1, std)\n",
    "    return (X - mean) / std, mean, std\n",
    "\n",
    "XPS, mean, std = standardize(X_poly)\n",
    "\n",
    "print(XPS)"
   ]
  },
  {
   "cell_type": "code",
   "execution_count": 47,
   "id": "8407cb11-715d-4aac-be29-3ae2c8cc4c1d",
   "metadata": {},
   "outputs": [],
   "source": [
    "def standardize_test(X_new, mean, std):\n",
    "    return (X_new - mean) / std"
   ]
  },
  {
   "cell_type": "code",
   "execution_count": 48,
   "id": "1814e302-40bf-4691-958b-04930c7d9bf4",
   "metadata": {},
   "outputs": [
    {
     "name": "stdout",
     "output_type": "stream",
     "text": [
      "[[ 4.02563118e-01]\n",
      " [-2.36708775e+02]\n",
      " [ 2.75885181e+01]\n",
      " [ 2.77067018e+02]\n",
      " [ 5.00783803e+02]\n",
      " [ 6.98806026e+02]\n",
      " [ 8.66919592e+02]]\n",
      "3919769.9526829054\n"
     ]
    }
   ],
   "source": [
    "eta = 0.01\n",
    "n_epochs = 10000\n",
    "theta = np.random.randn(7, 1)\n",
    "lambda_reg = 0.1\n",
    "l1_ratio = 0.5  \n",
    "n = len(XPS)\n",
    "\n",
    "tolerance = 1e-6  \n",
    "best_valid_mse = float('inf')\n",
    "best_theta = None\n",
    "last_improvement_epoch = 0\n",
    "\n",
    "\n",
    "for epochs in range(n_epochs):\n",
    "    \n",
    "    #lasso_grad = 2 / n * XPS.T @ (XPS @ theta - Y) + (2 / n) * lambda_reg * np.sign(theta)\n",
    "    \n",
    "  \n",
    "    elasticnet_grad = 2 / n * XPS.T @ (XPS @ theta - Y) + (2 / n) * lambda_reg * (l1_ratio * np.sign(theta) + (1 - l1_ratio) * theta)\n",
    "    \n",
    "    \n",
    "    theta = theta - eta * elasticnet_grad  \n",
    "\n",
    "\n",
    "    X_new_p = polynomial_features(X_new, degree)\n",
    "    X_new_s = standardize_test(X_new_p, mean, std)\n",
    "    Y_true = 3 * X_new**5 - 2 * X_new**4 + 0.5 * X_new**3 - 20 * X_new**2 + 8 * X_new + 5 + np.random.randn(1000, 1)\n",
    "    mse = np.mean((Y_true - X_new_s @ theta)**2)\n",
    "\n",
    "    if mse < best_valid_mse:\n",
    "        best_valid_mse = mse\n",
    "        best_theta = deepcopy(theta)\n",
    "        last_improvement_epoch = epochs\n",
    "    elif abs(mse - best_valid_mse) < tolerance:\n",
    "        print(f\"Early stopping: No significant improvement after epoch {epoch}\")\n",
    "        break\n",
    "        \n",
    "theta = best_theta\n",
    "print(theta)\n",
    "X_new = 3 * np.random.rand(1000, 1) + 2\n",
    "X_new_p = polynomial_features(X_new, degree)\n",
    "X_new_s = standardize_test(X_new_p, mean, std)\n",
    "\n",
    "Y_true = 3 * X_new**5 - 2 * X_new**4 + 0.5 * X_new**3 - 20 * X_new**2 + 8 * X_new + 5 + np.random.randn(1000, 1)\n",
    "\n",
    "mse = np.mean((Y_true - X_new_s @ theta)**2)\n",
    "print(mse)"
   ]
  },
  {
   "cell_type": "code",
   "execution_count": 49,
   "id": "35b791e8-fb1e-4894-b729-f2da0ce66c2c",
   "metadata": {},
   "outputs": [
    {
     "name": "stdout",
     "output_type": "stream",
     "text": [
      "ElasticNet (sklearn) Mean Squared Error: 8778.692250320251\n"
     ]
    }
   ],
   "source": [
    "elastic_net = ElasticNet(alpha=0.1, l1_ratio=0.5)\n",
    "elastic_net.fit(XPS, Y)\n",
    "\n",
    "pred_en = elastic_net.predict(X_new_s)\n",
    "print(\"ElasticNet (sklearn) Mean Squared Error:\", mean_squared_error(Y_true.ravel(), pred_en))\n"
   ]
  },
  {
   "cell_type": "code",
   "execution_count": 50,
   "id": "2527c9d5-7ca1-42b4-b1a9-acfc272d0c3b",
   "metadata": {},
   "outputs": [
    {
     "name": "stdout",
     "output_type": "stream",
     "text": [
      "Lasso (sklearn) Mean Squared Error: 9.148687977125348\n"
     ]
    }
   ],
   "source": [
    "lasso = Lasso(alpha=0.1, max_iter=10000)\n",
    "lasso.fit(XPS, Y)\n",
    "\n",
    "pred_lasso = lasso.predict(X_new_s)\n",
    "print(\"Lasso (sklearn) Mean Squared Error:\", mean_squared_error(Y_true.ravel(), pred_lasso))\n"
   ]
  },
  {
   "cell_type": "code",
   "execution_count": null,
   "id": "f8e8c587-25b7-4cf2-a32d-38dac81e29cc",
   "metadata": {},
   "outputs": [],
   "source": []
  }
 ],
 "metadata": {
  "kernelspec": {
   "display_name": "Python 3 (ipykernel)",
   "language": "python",
   "name": "python3"
  },
  "language_info": {
   "codemirror_mode": {
    "name": "ipython",
    "version": 3
   },
   "file_extension": ".py",
   "mimetype": "text/x-python",
   "name": "python",
   "nbconvert_exporter": "python",
   "pygments_lexer": "ipython3",
   "version": "3.11.7"
  }
 },
 "nbformat": 4,
 "nbformat_minor": 5
}
