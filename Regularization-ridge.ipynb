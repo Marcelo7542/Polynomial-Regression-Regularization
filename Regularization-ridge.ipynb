{
 "cells": [
  {
   "cell_type": "code",
   "execution_count": 107,
   "id": "0a6775dd-62e2-4f28-a398-fc62daad5137",
   "metadata": {},
   "outputs": [],
   "source": [
    "import numpy as np\n",
    "import matplotlib.pyplot as plt\n",
    "from sklearn.preprocessing import PolynomialFeatures, StandardScaler, add_dummy_feature\n",
    "from sklearn.linear_model import LinearRegression, Ridge, SGDRegressor, RidgeCV\n",
    "from sklearn.pipeline import make_pipeline\n",
    "from sklearn.model_selection import learning_curve\n",
    "from sklearn.metrics import mean_squared_error\n",
    "m = 10000\n",
    "X = 3 * np.random.rand(m, 1) + 2\n",
    "Y = 3 * X**5 - 2 * X**4 + 0.5 * X**3 - 20 * X**2 + 8 * X + 5 + np.random.randn(m,1)"
   ]
  },
  {
   "cell_type": "code",
   "execution_count": 95,
   "id": "bcee5dfa-a236-4572-b5ba-3c73ea472159",
   "metadata": {},
   "outputs": [
    {
     "data": {
      "image/png": "[encoded data removed]",
      "text/plain": [
       "<Figure size 640x480 with 1 Axes>"
      ]
     },
     "metadata": {},
     "output_type": "display_data"
    }
   ],
   "source": [
    "plt.plot(X, Y, 'bo', alpha=0.5)\n",
    "plt.show()"
   ]
  },
  {
   "cell_type": "code",
   "execution_count": 96,
   "id": "176f2717-4adc-4b66-9aba-cf9f366fbe9f",
   "metadata": {},
   "outputs": [
    {
     "name": "stdout",
     "output_type": "stream",
     "text": [
      "[[1.00000000e+00 4.30341061e+00 1.85193429e+01 ... 3.42966060e+02\n",
      "  1.47592378e+03 6.35150605e+03]\n",
      " [1.00000000e+00 3.86204722e+00 1.49154088e+01 ... 2.22469418e+02\n",
      "  8.59187400e+02 3.31822231e+03]\n",
      " [1.00000000e+00 3.28595209e+00 1.07974811e+01 ... 1.16585599e+02\n",
      "  3.83094693e+02 1.25883081e+03]\n",
      " ...\n",
      " [1.00000000e+00 3.04801269e+00 9.29038133e+00 ... 8.63111853e+01\n",
      "  2.63077588e+02 8.01863825e+02]\n",
      " [1.00000000e+00 2.97956866e+00 8.87782942e+00 ... 7.88158553e+01\n",
      "  2.34837253e+02 6.99713719e+02]\n",
      " [1.00000000e+00 4.07801211e+00 1.66301828e+01 ... 2.76562979e+02\n",
      "  1.12782718e+03 4.59929289e+03]]\n"
     ]
    }
   ],
   "source": [
    "\n",
    "\n",
    "def polynomial_features(X, degree):\n",
    "    poly_features = [X**i for i in range(degree + 1)]\n",
    "    return np.hstack(poly_features) \n",
    "degree = 6\n",
    "X_poly = polynomial_features(X, degree)\n",
    "\n",
    "print(X_poly)\n"
   ]
  },
  {
   "cell_type": "code",
   "execution_count": 97,
   "id": "c1e507ef-d8e4-480b-a45e-55fbdb86e5cf",
   "metadata": {},
   "outputs": [
    {
     "name": "stdout",
     "output_type": "stream",
     "text": [
      "[[ 0.00000000e+00  9.34303991e-01  9.12843009e-01 ...  8.02339678e-01\n",
      "   7.25306355e-01  6.41553169e-01]\n",
      " [ 0.00000000e+00  4.25614014e-01  3.21905247e-01 ...  1.01828524e-01\n",
      "   9.16429611e-04 -8.80604866e-02]\n",
      " [ 0.00000000e+00 -2.38360006e-01 -3.53312131e-01 ... -5.13730512e-01\n",
      "  -5.58279965e-01 -5.83418090e-01]\n",
      " ...\n",
      " [ 0.00000000e+00 -5.12595239e-01 -6.00431575e-01 ... -6.89731804e-01\n",
      "  -6.99246486e-01 -6.93335058e-01]\n",
      " [ 0.00000000e+00 -5.91479871e-01 -6.68077790e-01 ... -7.33306149e-01\n",
      "  -7.32416273e-01 -7.17905826e-01]\n",
      " [ 0.00000000e+00  6.74522684e-01  6.03077069e-01 ...  4.16303202e-01\n",
      "   3.16448243e-01  2.20082986e-01]]\n"
     ]
    }
   ],
   "source": [
    "def standardize(X):\n",
    "    mean = np.mean(X, axis=0)\n",
    "    std = np.std(X, axis=0)\n",
    "    std = np.where(std == 0, 1, std)\n",
    "    return (X - mean) / std, mean, std\n",
    "\n",
    "XPS, mean, std = standardize(X_poly)\n",
    "\n",
    "print(XPS)"
   ]
  },
  {
   "cell_type": "code",
   "execution_count": 98,
   "id": "b42c44a6-965a-429d-aae1-6e128ce82d6a",
   "metadata": {},
   "outputs": [
    {
     "name": "stdout",
     "output_type": "stream",
     "text": [
      "[[   0.        ]\n",
      " [ 145.06475236]\n",
      " [-526.07868083]\n",
      " [  10.99143555]\n",
      " [ 824.00989307]\n",
      " [1151.22177224]\n",
      " [ 506.82201003]]\n"
     ]
    }
   ],
   "source": [
    "n = XPS.shape[1]\n",
    "A = np.eye(n)\n",
    "theta = 0.01\n",
    "result = np.linalg.inv(XPS.T @ XPS + theta * A) @ XPS.T @ Y\n",
    "#result = np.linalg.pinv(X_a) @ Y\n",
    "#result, residuals, rank, s = np.linalg.lstsq(X_a, Y, rcond=None)\n",
    "print(result)"
   ]
  },
  {
   "cell_type": "code",
   "execution_count": 99,
   "id": "9534e04d-73f9-4f6c-b980-ad66c64c8907",
   "metadata": {},
   "outputs": [
    {
     "name": "stdout",
     "output_type": "stream",
     "text": [
      "[[ 2.92498362e-01]\n",
      " [-2.24373566e+02]\n",
      " [ 1.82348812e+01]\n",
      " [ 2.58995757e+02]\n",
      " [ 4.90102934e+02]\n",
      " [ 6.94151151e+02]\n",
      " [ 8.72276879e+02]]\n"
     ]
    }
   ],
   "source": [
    "eta = 0.01\n",
    "n_epochs = 10000\n",
    "theta = np.random.randn(7,1)\n",
    "lambda_reg = 0.1\n",
    "n = len(XPS)\n",
    "\n",
    "\n",
    "\n",
    "for epochs in range(n_epochs):\n",
    "    mse_grad = 2 / n * XPS.T @ (XPS @ theta - Y) + (2/n) * lambda_reg * theta\n",
    "    theta = theta - eta * mse_grad \n",
    "        \n",
    "print(theta)\n",
    "\n"
   ]
  },
  {
   "cell_type": "code",
   "execution_count": 100,
   "id": "b21eb6f0-35b5-48c6-8dc1-76cf6cc21c64",
   "metadata": {},
   "outputs": [
    {
     "name": "stdout",
     "output_type": "stream",
     "text": [
      "4375352.296742179\n"
     ]
    }
   ],
   "source": [
    "def standardize_test(X_new, mean, std):\n",
    "    return (X_new - mean) / std\n",
    "\n",
    "X_new = 3 * np.random.rand(1000, 1) + 2\n",
    "X_new = polynomial_features(X_new, degree)\n",
    "X_new = standardize_test(X_new, mean, std)\n",
    "Y_true = 3 * X_new**5 - 2 * X_new**4 + 0.5 * X_new**3 - 20 * X_new**2 + 8 * X_new + 5 + np.random.randn(1000,1)\n",
    "mse = np.mean((Y_true - X_new @ theta)**2)\n",
    "print(mse)"
   ]
  },
  {
   "cell_type": "code",
   "execution_count": 101,
   "id": "f324656e-64c5-4665-93c8-9bc6912d821f",
   "metadata": {},
   "outputs": [
    {
     "name": "stdout",
     "output_type": "stream",
     "text": [
      "Final theta values (Mini-Batch Gradient Descent): [[-1.38279126e-01]\n",
      " [-8.67858539e+01]\n",
      " [-1.22278298e+02]\n",
      " [ 1.80869104e+02]\n",
      " [ 5.57027846e+02]\n",
      " [ 8.05453454e+02]\n",
      " [ 8.14829909e+02]]\n"
     ]
    }
   ],
   "source": [
    "\n",
    "def mse_grad_f(X, Y, theta):\n",
    "    return 2 / len(X) * X.T @ (X @ theta - Y) + (2/n) * lambda_reg * theta\n",
    "\n",
    "eta = 0.01\n",
    "n_epochs = 10000\n",
    "lambda_reg = 0.1\n",
    "theta = np.random.randn(7, 1)\n",
    "batch_size = 50\n",
    "n = len(XPS)\n",
    "\n",
    "for epoch in range(n_epochs):\n",
    "    idxs = np.random.permutation(n)\n",
    "    X_shuffled = XPS[idxs]\n",
    "    Y_shuffled = Y[idxs]\n",
    "    \n",
    "    for i in range(0, n, batch_size):\n",
    "        X_batch = X_shuffled[i:i + batch_size]\n",
    "        Y_batch = Y_shuffled[i:i + batch_size]\n",
    "        mse_grad = mse_grad_f(X_batch, Y_batch, theta) \n",
    "        theta = theta - eta * mse_grad\n",
    "\n",
    "print(\"Final theta values (Mini-Batch Gradient Descent):\", theta)\n"
   ]
  },
  {
   "cell_type": "code",
   "execution_count": 102,
   "id": "bb0b4b71-4a97-445f-bca2-4ff73407eba2",
   "metadata": {},
   "outputs": [
    {
     "name": "stdout",
     "output_type": "stream",
     "text": [
      "0.9999997773862142\n",
      "(1000, 1)\n",
      "(1000, 1)\n",
      "(1000,)\n",
      "1.0174093945641378\n"
     ]
    }
   ],
   "source": [
    "ridge_reg = Ridge(alpha=1e-06, solver=\"cholesky\")\n",
    "ridge_reg.fit(XPS, Y)\n",
    "print(ridge_reg.score(XPS, Y))\n",
    "\n",
    "X_new = 3 * np.random.rand(1000, 1) + 2\n",
    "X_new_p = polynomial_features(X_new, degree)\n",
    "X_new_s = standardize_test(X_new_p, mean, std)\n",
    "Y_true = 3 * X_new**5 - 2 * X_new**4 + 0.5 * X_new**3 - 20 * X_new**2 + 8 * X_new + 5 + np.random.randn(1000, 1)\n",
    "\n",
    "pred = ridge_reg.predict(X_new_s)\n",
    "print(pred.shape)\n",
    "print(Y_true.shape)\n",
    "print(Y_true.ravel().shape)\n",
    "print( mean_squared_error(Y_true.ravel(), pred))"
   ]
  },
  {
   "cell_type": "code",
   "execution_count": 103,
   "id": "92ac4494-5a16-40f5-bdd4-658d336ebfb6",
   "metadata": {},
   "outputs": [
    {
     "name": "stdout",
     "output_type": "stream",
     "text": [
      "10.226699597043357\n"
     ]
    }
   ],
   "source": [
    "sgd_reg = SGDRegressor(penalty=\"l2\", alpha=0.1 / m, tol=None,\n",
    "max_iter=1000, eta0=0.01, random_state=42)\n",
    "sgd_reg.fit(XPS, Y.ravel())\n",
    "pred_sgd = sgd_reg.predict(X_new_s)\n",
    "print( mean_squared_error(Y_true.ravel(), pred_sgd))"
   ]
  },
  {
   "cell_type": "code",
   "execution_count": 104,
   "id": "aba61c93-6a3d-4a74-acf5-f1482b7ae126",
   "metadata": {},
   "outputs": [
    {
     "name": "stdout",
     "output_type": "stream",
     "text": [
      "Best alpha: 1e-06\n",
      "Training R^2 score: 0.9999997773862142\n",
      "Pred shape: (1000, 1)\n",
      "Y_true shape: (1000, 1)\n",
      "Mean Squared Error: 0.9173186192943127\n"
     ]
    }
   ],
   "source": [
    "\n",
    "ridgeCV = RidgeCV(alphas=np.logspace(-6, 6, 13), cv=4)\n",
    "ridgeCV.fit(XPS, Y)\n",
    "\n",
    "print(\"Best alpha:\", ridgeCV.alpha_)\n",
    "print(\"Training R^2 score:\", ridgeCV.score(XPS, Y))\n",
    "\n",
    "X_new = 3 * np.random.rand(1000, 1) + 2\n",
    "X_new_p = polynomial_features(X_new, degree)\n",
    "X_new_s = standardize_test(X_new_p, mean, std)\n",
    "\n",
    "Y_true = 3 * X_new**5 - 2 * X_new**4 + 0.5 * X_new**3 - 20 * X_new**2 + 8 * X_new + 5 + np.random.randn(1000, 1)\n",
    "\n",
    "pred = ridgeCV.predict(X_new_s)\n",
    "\n",
    "print(\"Pred shape:\", pred.shape)\n",
    "print(\"Y_true shape:\", Y_true.shape)\n",
    "print(\"Mean Squared Error:\", mean_squared_error(Y_true.ravel(), pred))"
   ]
  },
  {
   "cell_type": "code",
   "execution_count": null,
   "id": "cec788de-d451-4534-b19c-071e2c02bb49",
   "metadata": {},
   "outputs": [],
   "source": []
  }
 ],
 "metadata": {
  "kernelspec": {
   "display_name": "Python 3 (ipykernel)",
   "language": "python",
   "name": "python3"
  },
  "language_info": {
   "codemirror_mode": {
    "name": "ipython",
    "version": 3
   },
   "file_extension": ".py",
   "mimetype": "text/x-python",
   "name": "python",
   "nbconvert_exporter": "python",
   "pygments_lexer": "ipython3",
   "version": "3.11.7"
  }
 },
 "nbformat": 4,
 "nbformat_minor": 5
}
